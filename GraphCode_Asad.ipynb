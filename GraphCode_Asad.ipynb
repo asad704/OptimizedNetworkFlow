{
 "cells": [
  {
   "cell_type": "code",
   "execution_count": 24,
   "metadata": {},
   "outputs": [
    {
     "name": "stdout",
     "output_type": "stream",
     "text": [
      "1 Tarbela Dam 1500 0 249.0 120.5 38.088 72.699\n",
      "2 Kalabagh Dam 950 0 258.3 251.7 32.956 71.614\n",
      "3 Chashma Dam 950 0 318.2 300.4 32.436 71.38\n",
      "4 Tunsa Dam 1000 0 312.9 293.4 25.132 98.126\n",
      "5 Guddu 1200 0 219.9 182.9 28.392 69.772\n"
     ]
    }
   ],
   "source": [
    "import networkx as nx\n",
    "import matplotlib.pyplot as plt\n",
    "\n",
    "class Reserve:\n",
    "    \n",
    "    def __init__(self, node_id,name,capacity,level,inflow,outflow,long,lat):\n",
    "        \n",
    "        self.node_id = node_id\n",
    "        self.name = name\n",
    "        self.capacity = capacity\n",
    "        self.level = level\n",
    "        self.inflow = inflow\n",
    "        self.outflow = outflow\n",
    "        self.long = long\n",
    "        self.lat = lat\n",
    "        \n",
    "    def describe(self):\n",
    "        \n",
    "        return '{} {} {} {} {} {} {} {}'.format(self.node_id,self.name,self.capacity,self.level,self.inflow,self.outflow,self.long,self.lat)\n",
    "\n",
    "        \n",
    "\n",
    "options = {\n",
    "'node_color' : 'red',\n",
    "'node_size' : 500,\n",
    "'width' : 3,\n",
    "'with_labels' : True\n",
    "\n",
    "}\n",
    "\n",
    "res1 = Reserve(1,\"Tarbela Dam\",1500,0,249.0,120.5,38.088,72.699)\n",
    "res2 = Reserve(2,\"Kalabagh Dam\",950,0,258.3,251.7,32.956,71.614)\n",
    "res3 = Reserve(3,\"Chashma Dam\",950,0,318.2,300.4,32.436,71.38)\n",
    "res4 = Reserve(4,\"Tunsa Dam\",1000,0,312.9,293.4,25.132,98.126)\n",
    "res5 = Reserve(5,\"Guddu\",1200,0,219.9,182.9,28.392,69.772)\n",
    "\n",
    "\n",
    "print(res1.describe())\n",
    "print(res2.describe())\n",
    "print(res3.describe())\n",
    "print(res4.describe())\n",
    "print(res5.describe())\n",
    "\n",
    "\n",
    "flow=nx.DiGraph() # make a directed graph (digraph)\n",
    "\n",
    "flow.add_nodes_from([res1.name,res2.name,res3.name,res4.name,res5.name])\n",
    "flow.add_edges_from([(res1.name,res2.name),\n",
    "                     (res2.name,res3.name),\n",
    "                     (res3.name,res4.name),\n",
    "                     (res4.name,res5.name)],weight=1.0)\n",
    "\n",
    "\n",
    "\n",
    "\n",
    "#nx.draw_shell(DG, nlist=[range(5,10), range(5)], **options)\n",
    "\n",
    "#nx.draw_shell(flow,**options)\n",
    "#plt.figure(figsize=(20,40), dpi=5)\n",
    "#plt.savefig(\"path.png\")"
   ]
  },
  {
   "cell_type": "code",
   "execution_count": null,
   "metadata": {},
   "outputs": [],
   "source": []
  },
  {
   "cell_type": "code",
   "execution_count": null,
   "metadata": {},
   "outputs": [],
   "source": []
  }
 ],
 "metadata": {
  "kernelspec": {
   "display_name": "Python 3",
   "language": "python",
   "name": "python3"
  },
  "language_info": {
   "codemirror_mode": {
    "name": "ipython",
    "version": 3
   },
   "file_extension": ".py",
   "mimetype": "text/x-python",
   "name": "python",
   "nbconvert_exporter": "python",
   "pygments_lexer": "ipython3",
   "version": "3.6.5"
  }
 },
 "nbformat": 4,
 "nbformat_minor": 2
}
